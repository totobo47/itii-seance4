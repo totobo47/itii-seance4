{
 "cells": [
  {
   "cell_type": "markdown",
   "metadata": {},
   "source": [
    "#Seance 4"
   ]
  },
  {
   "cell_type": "markdown",
   "metadata": {},
   "source": [
    "Ex 1: Racine quatrième \n",
    "\n",
    "Pour un nombre réel b positif, il existe un unique réel a positif tel que b^n = a. Ce réel est appelé la racine n-ième de b (ou racine n-ième principale de b).\n",
    "\n",
    "1. Donner la fonction python racine(,bn,e) qui donnée la racine n-eme de b avec une précision de e\n"
   ]
  },
  {
   "cell_type": "code",
   "execution_count": 20,
   "metadata": {},
   "outputs": [
    {
     "name": "stdout",
     "output_type": "stream",
     "text": [
      "2.0000000000000013\n"
     ]
    }
   ],
   "source": [
    "def racine(b,n,e):\n",
    "    r = e\n",
    "    while r**n < b:\n",
    "        r+=e\n",
    "    print(r)\n",
    "\n",
    "racine(16,4,0.01)"
   ]
  },
  {
   "cell_type": "markdown",
   "metadata": {},
   "source": [
    "Ex 2: Racine d'un polynome\n",
    "On appelle racine d'une polynome P une solution de l'équation (E): P(x)=0. \n",
    "\n",
    "On considère le trinome ax2+bx+c.\n",
    "\n",
    "Faire un algorithme pour trouver si il a des racines, combien, et calculer leur valeur. "
   ]
  },
  {
   "cell_type": "code",
   "execution_count": 13,
   "metadata": {},
   "outputs": [
    {
     "name": "stdout",
     "output_type": "stream",
     "text": [
      "Solutions de  3 x^2 + 2 x + 1 = 0\n",
      "Aucune solution\n",
      "None\n"
     ]
    }
   ],
   "source": [
    "from math import sqrt\n",
    "\n",
    "def polynome(a, b, c, x):\n",
    "    print (\"En\", x, \":\", a * x * x + b * x + c)\n",
    "\n",
    "def racine(a, b, c):\n",
    "    print(\"Solutions de \", a, \"x^2 +\", b, \"x +\", c, \"= 0\")\n",
    "    if a == 0:\n",
    "        if b == 0:\n",
    "            if c == 0:\n",
    "                print (\"Tout reel est solution\")\n",
    "            else :\n",
    "                print (\"Aucune solution\")\n",
    "        else :\n",
    "            x = (-c * 1.0) / b\n",
    "            print (\"Une solution :\", xpolynome(a, b, c, x))\n",
    "    else :\n",
    "        d = b * b - 4 * a * c\n",
    "    if(d == 0): \n",
    "        x = -b / (2.0 * a) \n",
    "        print (\"Une solution :\", xpolynome(a, b, c, x) )\n",
    "    elif(d > 0):\n",
    "        r = sqrt(d) \n",
    "        x1 = (-b - r) / (2.0 * a) \n",
    "        x2 = (-b + r) / (2.0 * a)\n",
    "        print (\"Deux solutions :\", x1, \"et\", x2)\n",
    "        polynome(a, b, c, x1) \n",
    "        polynome(a, b, c, x2)\n",
    "    else :\n",
    "        print (\"Aucune solution\")\n",
    "\n",
    "print(racine(3,2,1))"
   ]
  },
  {
   "cell_type": "markdown",
   "metadata": {},
   "source": [
    "#Introduction a Sympy \n",
    " \n",
    "Le module Sympy  permet de faire du calcul symbolique. Par exemple, le nombre √8 est représenté par Python comme un flottant"
   ]
  },
  {
   "cell_type": "code",
   "execution_count": 14,
   "metadata": {},
   "outputs": [
    {
     "data": {
      "text/plain": [
       "2.8284271247461903"
      ]
     },
     "execution_count": 14,
     "metadata": {},
     "output_type": "execute_result"
    }
   ],
   "source": [
    "import math\n",
    "math.sqrt(8)"
   ]
  },
  {
   "cell_type": "markdown",
   "metadata": {},
   "source": [
    "L’avantage de Sympy est que √8 est gardé en tant racine et même automatiquement simplifié"
   ]
  },
  {
   "cell_type": "code",
   "execution_count": 22,
   "metadata": {},
   "outputs": [
    {
     "data": {
      "image/png": "[encoded data removed]",
      "text/latex": [
       "$$2 \\sqrt{2}$$"
      ],
      "text/plain": [
       "2⋅√2"
      ]
     },
     "execution_count": 22,
     "metadata": {},
     "output_type": "execute_result"
    }
   ],
   "source": [
    "from sympy import *\n",
    "import sympy as sp\n",
    "init_printing()\n",
    "sqrt(8)"
   ]
  },
  {
   "cell_type": "markdown",
   "metadata": {},
   "source": [
    "Ex3 : Introduction\n",
    "Avant de pourvoir utiliser des variables symboliques, il faut les déclarer comme symboles:"
   ]
  },
  {
   "cell_type": "code",
   "execution_count": 69,
   "metadata": {},
   "outputs": [
    {
     "data": {
      "image/png": "[encoded data removed]",
      "text/latex": [
       "$$\\frac{\\varepsilon}{4} + x^{2} + 4 x + 4 y$$"
      ],
      "text/plain": [
       "\\varepsilon    2            \n",
       "─────────── + x  + 4⋅x + 4⋅y\n",
       "     4                      "
      ]
     },
     "execution_count": 69,
     "metadata": {},
     "output_type": "execute_result"
    }
   ],
   "source": [
    "x = sp.Symbol(\"x\")# definit le symbole x\n",
    "y = sp.Symbol(\"y\", real=True)# définit la variable réelle y\n",
    "e = sp.Symbol(r\"\\varepsilon\", real=True, positive=True)# définit epsilon positif\n",
    "\n",
    "x + 2*y + e/4 + x**2 + 3*x + 2*y"
   ]
  },
  {
   "cell_type": "markdown",
   "metadata": {},
   "source": [
    "1. Lire la doc de la fonction solve et l’utiliser pour calculer les racines d’un polynôme général de degré deux, puis de degré trois\n",
    "2. Lire la documentation des fonctions evalf et N pour évaluer l’expression π^2/4\n",
    "3. Déterminer la partie réelle et imaginaire de l’expression : (1+i√3)^20 / 1+i\n",
    "4. Lire la documentation de la fonction diff et calculer la dérivée de xe^x^x^x par rapport à x.\n",
    "5. Calculer avec Sympy les limites suivantes :\n",
    " * L1= lim x→0 sin(x)/x,\n",
    " * L2= lim x→0 sin(1/x),"
   ]
  },
  {
   "cell_type": "markdown",
   "metadata": {},
   "source": [
    "1."
   ]
  },
  {
   "cell_type": "code",
   "execution_count": 33,
   "metadata": {},
   "outputs": [
    {
     "data": {
      "image/png": "[encoded data removed]",
      "text/latex": [
       "$$\\left\\{- \\frac{2}{3} \\sqrt[3]{\\frac{316}{125} + \\frac{6 \\sqrt{114}}{25}} - \\frac{2}{15} + \\frac{28}{75 \\sqrt[3]{\\frac{316}{125} + \\frac{6 \\sqrt{114}}{25}}}, - \\frac{2}{15} - \\frac{14}{75 \\sqrt[3]{\\frac{316}{125} + \\frac{6 \\sqrt{114}}{25}}} + \\frac{1}{3} \\sqrt[3]{\\frac{316}{125} + \\frac{6 \\sqrt{114}}{25}} + i \\left(\\frac{14 \\sqrt{3}}{75 \\sqrt[3]{\\frac{316}{125} + \\frac{6 \\sqrt{114}}{25}}} + \\frac{\\sqrt{3}}{3} \\sqrt[3]{\\frac{316}{125} + \\frac{6 \\sqrt{114}}{25}}\\right), - \\frac{2}{15} - \\frac{14}{75 \\sqrt[3]{\\frac{316}{125} + \\frac{6 \\sqrt{114}}{25}}} + \\frac{1}{3} \\sqrt[3]{\\frac{316}{125} + \\frac{6 \\sqrt{114}}{25}} + i \\left(- \\frac{\\sqrt{3}}{3} \\sqrt[3]{\\frac{316}{125} + \\frac{6 \\sqrt{114}}{25}} - \\frac{14 \\sqrt{3}}{75 \\sqrt[3]{\\frac{316}{125} + \\frac{6 \\sqrt{114}}{25}}}\\right)\\right\\}$$"
      ],
      "text/plain": [
       "⎧        ______________                                                       \n",
       "⎪       ╱ 316   6⋅√114                                                        \n",
       "⎪  2⋅3 ╱  ─── + ──────                                                        \n",
       "⎪    ╲╱   125     25      2              28             2              14     \n",
       "⎨- ──────────────────── - ── + ─────────────────────, - ── - ─────────────────\n",
       "⎪           3             15          ______________    15          __________\n",
       "⎪                                    ╱ 316   6⋅√114                ╱ 316   6⋅√\n",
       "⎪                              75⋅3 ╱  ─── + ──────          75⋅3 ╱  ─── + ───\n",
       "⎩                                 ╲╱   125     25               ╲╱   125     2\n",
       "\n",
       "           ______________     ⎛                               ______________⎞ \n",
       "          ╱ 316   6⋅√114      ⎜                              ╱ 316   6⋅√114 ⎟ \n",
       "       3 ╱  ─── + ──────      ⎜                        √3⋅3 ╱  ─── + ────── ⎟ \n",
       "       ╲╱   125     25        ⎜        14⋅√3              ╲╱   125     25   ⎟ \n",
       "──── + ────────────────── + ⅈ⋅⎜───────────────────── + ─────────────────────⎟,\n",
       "____           3              ⎜       ______________             3          ⎟ \n",
       "114                           ⎜      ╱ 316   6⋅√114                         ⎟ \n",
       "───                           ⎜75⋅3 ╱  ─── + ──────                         ⎟ \n",
       "5                             ⎝   ╲╱   125     25                           ⎠ \n",
       "\n",
       "                                    ______________     ⎛         _____________\n",
       "                                   ╱ 316   6⋅√114      ⎜        ╱ 316   6⋅√114\n",
       "                                3 ╱  ─── + ──────      ⎜  √3⋅3 ╱  ─── + ──────\n",
       "   2              14            ╲╱   125     25        ⎜     ╲╱   125     25  \n",
       " - ── - ───────────────────── + ────────────────── + ⅈ⋅⎜- ────────────────────\n",
       "   15          ______________           3              ⎜            3         \n",
       "              ╱ 316   6⋅√114                           ⎜                      \n",
       "        75⋅3 ╱  ─── + ──────                           ⎜                      \n",
       "           ╲╱   125     25                             ⎝                      \n",
       "\n",
       "_                        ⎞⎫\n",
       "                         ⎟⎪\n",
       "                         ⎟⎪\n",
       "            14⋅√3        ⎟⎪\n",
       "─ - ─────────────────────⎟⎬\n",
       "           ______________⎟⎪\n",
       "          ╱ 316   6⋅√114 ⎟⎪\n",
       "    75⋅3 ╱  ─── + ────── ⎟⎪\n",
       "       ╲╱   125     25   ⎠⎭"
      ]
     },
     "execution_count": 33,
     "metadata": {},
     "output_type": "execute_result"
    }
   ],
   "source": [
    "solveset(5*x**3+2*x**2+4*x+8,x)"
   ]
  },
  {
   "cell_type": "code",
   "execution_count": 28,
   "metadata": {},
   "outputs": [
    {
     "data": {
      "image/png": "[encoded data removed]",
      "text/latex": [
       "$$\\left\\{- \\frac{3}{5} + \\frac{\\sqrt{14}}{5}, - \\frac{\\sqrt{14}}{5} - \\frac{3}{5}\\right\\}$$"
      ],
      "text/plain": [
       "⎧  3   √14    √14   3⎫\n",
       "⎨- ─ + ───, - ─── - ─⎬\n",
       "⎩  5    5      5    5⎭"
      ]
     },
     "execution_count": 28,
     "metadata": {},
     "output_type": "execute_result"
    }
   ],
   "source": [
    "solveset(5*x**2+6*x-1,x)"
   ]
  },
  {
   "cell_type": "markdown",
   "metadata": {},
   "source": [
    "2."
   ]
  },
  {
   "cell_type": "code",
   "execution_count": 46,
   "metadata": {},
   "outputs": [
    {
     "data": {
      "image/png": "[encoded data removed]",
      "text/latex": [
       "$$2.46740110027234$$"
      ],
      "text/plain": [
       "2.46740110027234"
      ]
     },
     "execution_count": 46,
     "metadata": {},
     "output_type": "execute_result"
    }
   ],
   "source": [
    "x = (pi.evalf(100)**2)/4\n",
    "N(x) \"\"\"N transforme la valeur symbolique n valeur numérique\"\"\""
   ]
  },
  {
   "cell_type": "markdown",
   "metadata": {},
   "source": [
    "3."
   ]
  },
  {
   "cell_type": "code",
   "execution_count": 55,
   "metadata": {},
   "outputs": [
    {
     "data": {
      "image/png": "[encoded data removed]",
      "text/latex": [
       "$$-524288$$"
      ],
      "text/plain": [
       "-524288"
      ]
     },
     "execution_count": 55,
     "metadata": {},
     "output_type": "execute_result"
    }
   ],
   "source": [
    "x=(1+I*sqrt(3))**20 / 1+I\n",
    "re(x)\n"
   ]
  },
  {
   "cell_type": "code",
   "execution_count": 59,
   "metadata": {},
   "outputs": [
    {
     "data": {
      "image/png": "[encoded data removed]",
      "text/latex": [
       "$$1 + 524288 \\sqrt{3}$$"
      ],
      "text/plain": [
       "1 + 524288⋅√3"
      ]
     },
     "execution_count": 59,
     "metadata": {},
     "output_type": "execute_result"
    }
   ],
   "source": [
    "im(x)"
   ]
  },
  {
   "cell_type": "markdown",
   "metadata": {},
   "source": [
    "4."
   ]
  },
  {
   "cell_type": "code",
   "execution_count": 65,
   "metadata": {},
   "outputs": [
    {
     "data": {
      "image/png": "[encoded data removed]",
      "text/latex": [
       "$$\\frac{1}{\\varepsilon} \\varepsilon^{\\left(i + \\left(1 + \\sqrt{3} i\\right)^{20}\\right)^{\\left(i + \\left(1 + \\sqrt{3} i\\right)^{20}\\right)^{i + \\left(1 + \\sqrt{3} i\\right)^{20}}}} \\left(i + \\left(1 + \\sqrt{3} i\\right)^{20}\\right) \\left(i + \\left(1 + \\sqrt{3} i\\right)^{20}\\right)^{\\left(i + \\left(1 + \\sqrt{3} i\\right)^{20}\\right)^{i + \\left(1 + \\sqrt{3} i\\right)^{20}}}$$"
      ],
      "text/plain": [
       "           ⎛                  ⎛                                20⎞⎞           \n",
       "           ⎜                  ⎜                  ⅈ + (1 + √3⋅ⅈ)  ⎟⎟           \n",
       "           ⎜                  ⎜⎛              20⎞                ⎟⎟           \n",
       "           ⎜                  ⎝⎝ⅈ + (1 + √3⋅ⅈ)  ⎠                ⎠⎟           \n",
       "           ⎜⎛              20⎞                                    ⎟           \n",
       "           ⎝⎝ⅈ + (1 + √3⋅ⅈ)  ⎠                                    ⎠ ⎛         \n",
       "\\varepsilon                                                        ⋅⎝ⅈ + (1 + \n",
       "──────────────────────────────────────────────────────────────────────────────\n",
       "                                                                 \\varepsilon  \n",
       "\n",
       "                                                               \n",
       "                           ⎛                                20⎞\n",
       "                           ⎜                  ⅈ + (1 + √3⋅ⅈ)  ⎟\n",
       "                           ⎜⎛              20⎞                ⎟\n",
       "                           ⎝⎝ⅈ + (1 + √3⋅ⅈ)  ⎠                ⎠\n",
       "     20⎞ ⎛              20⎞                                    \n",
       "√3⋅ⅈ)  ⎠⋅⎝ⅈ + (1 + √3⋅ⅈ)  ⎠                                    \n",
       "───────────────────────────────────────────────────────────────\n",
       "                                                               "
      ]
     },
     "execution_count": 65,
     "metadata": {},
     "output_type": "execute_result"
    }
   ],
   "source": [
    "diff(x*e**x**x**x)"
   ]
  },
  {
   "cell_type": "markdown",
   "metadata": {},
   "source": [
    "5."
   ]
  },
  {
   "cell_type": "code",
   "execution_count": 76,
   "metadata": {},
   "outputs": [
    {
     "data": {
      "image/png": "[encoded data removed]",
      "text/latex": [
       "$$1$$"
      ],
      "text/plain": [
       "1"
      ]
     },
     "execution_count": 76,
     "metadata": {},
     "output_type": "execute_result"
    }
   ],
   "source": [
    "limit(sin(x)/x,x,0)"
   ]
  },
  {
   "cell_type": "code",
   "execution_count": 77,
   "metadata": {},
   "outputs": [
    {
     "data": {
      "image/png": "[encoded data removed]",
      "text/latex": [
       "$$\\langle -1, 1\\rangle$$"
      ],
      "text/plain": [
       "<-1, 1>"
      ]
     },
     "execution_count": 77,
     "metadata": {},
     "output_type": "execute_result"
    }
   ],
   "source": [
    "limit(sin(1/x),x,0)"
   ]
  },
  {
   "cell_type": "markdown",
   "metadata": {},
   "source": [
    "Ex 4 : Application\n",
    "Le but est d’utiliser Sympy pour résoudre symboliquement différents problèmes mathématiquesen \n",
    "1. Déterminer le nombre de zéro que contient l’entier 123!\n",
    "2. Déterminer le rapport entre la hauteur et le rayon d’un cylindre de manière à minimiser son aire à volume fixé\n",
    "3. Pour x,y∈R tels que xy <1, démontrer que arctan(x) + arctan(y) = arctan(x+y/1−xy)\n",
    "\n",
    "    "
   ]
  },
  {
   "cell_type": "markdown",
   "metadata": {},
   "source": [
    "1."
   ]
  },
  {
   "cell_type": "code",
   "execution_count": 80,
   "metadata": {},
   "outputs": [
    {
     "data": {
      "image/png": "[encoded data removed]",
      "text/latex": [
       "$$42$$"
      ],
      "text/plain": [
       "42"
      ]
     },
     "execution_count": 80,
     "metadata": {},
     "output_type": "execute_result"
    }
   ],
   "source": [
    "str(factorial(123)).count('0')"
   ]
  },
  {
   "cell_type": "markdown",
   "metadata": {},
   "source": [
    "2."
   ]
  },
  {
   "cell_type": "code",
   "execution_count": 81,
   "metadata": {},
   "outputs": [
    {
     "data": {
      "image/png": "[encoded data removed]",
      "text/latex": [
       "$$\\left [ \\right ]$$"
      ],
      "text/plain": [
       "[]"
      ]
     },
     "execution_count": 81,
     "metadata": {},
     "output_type": "execute_result"
    }
   ],
   "source": [
    "h=Symbol(\"h\")\n",
    "R=var('R')\n",
    "expr = diff(1/R+1/h,R)\n",
    "solve(expr,R)"
   ]
  },
  {
   "cell_type": "markdown",
   "metadata": {},
   "source": [
    "3."
   ]
  },
  {
   "cell_type": "code",
   "execution_count": 82,
   "metadata": {},
   "outputs": [
    {
     "data": {
      "image/png": "[encoded data removed]",
      "text/latex": [
       "$$- \\frac{x + y}{x y - 1}$$"
      ],
      "text/plain": [
       "-(x + y) \n",
       "─────────\n",
       " x⋅y - 1 "
      ]
     },
     "execution_count": 82,
     "metadata": {},
     "output_type": "execute_result"
    }
   ],
   "source": [
    "var('x')\n",
    "var('y')\n",
    "trigsimp(tan(atan(x)+atan(y)))"
   ]
  }
 ],
 "metadata": {
  "kernelspec": {
   "display_name": "Python 3",
   "language": "python",
   "name": "python3"
  },
  "language_info": {
   "codemirror_mode": {
    "name": "ipython",
    "version": 3
   },
   "file_extension": ".py",
   "mimetype": "text/x-python",
   "name": "python",
   "nbconvert_exporter": "python",
   "pygments_lexer": "ipython3",
   "version": "3.7.0"
  }
 },
 "nbformat": 4,
 "nbformat_minor": 4
}
